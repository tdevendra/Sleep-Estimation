{
 "cells": [
  {
   "cell_type": "code",
   "execution_count": 1,
   "metadata": {},
   "outputs": [
    {
     "name": "stderr",
     "output_type": "stream",
     "text": [
      "WARNING (theano.configdefaults): g++ not available, if using conda: `conda install m2w64-toolchain`\n",
      "G:\\Python38\\lib\\site-packages\\theano\\configdefaults.py:560: UserWarning: DeprecationWarning: there is no c++ compiler.This is deprecated and with Theano 0.11 a c++ compiler will be mandatory\n",
      "  warnings.warn(\"DeprecationWarning: there is no c++ compiler.\"\n",
      "WARNING (theano.configdefaults): g++ not detected ! Theano will be unable to execute optimized C-implementations (for both CPU and GPU) and will default to Python implementations. Performance will be severely degraded. To remove this warning, set Theano flags cxx to an empty string.\n",
      "WARNING (theano.tensor.blas): Using NumPy C-API based implementation for BLAS functions.\n"
     ]
    }
   ],
   "source": [
    "# pandas and numpy for data manipulation\n",
    "import pandas as pd\n",
    "import numpy as np\n",
    "\n",
    "# scipy for algorithms\n",
    "import scipy\n",
    "from scipy import stats\n",
    "\n",
    "# pymc3 for Bayesian Inference, pymc built on t\n",
    "import pymc3 as pm\n",
    "import theano.tensor as tt\n",
    "import scipy\n",
    "from scipy import optimize\n",
    "\n",
    "# matplotlib for plotting\n",
    "import matplotlib.pyplot as plt\n",
    "%matplotlib inline\n",
    "from IPython.core.pylabtools import figsize\n",
    "import matplotlib"
   ]
  },
  {
   "cell_type": "code",
   "execution_count": 2,
   "metadata": {},
   "outputs": [],
   "source": [
    "import json\n",
    "s = json.load(open('../style/bmh_matplotlibrc.json'))\n",
    "matplotlib.rcParams.update(s)\n",
    "matplotlib.rcParams['figure.figsize'] = (10, 3)\n",
    "matplotlib.rcParams['font.size'] = 14\n",
    "matplotlib.rcParams['ytick.major.size'] = 20"
   ]
  },
  {
   "cell_type": "code",
   "execution_count": 3,
   "metadata": {},
   "outputs": [],
   "source": [
    "# Data formatted in different notebook\n",
    "sleep_data = pd.read_csv('data/sleep_data.csv')\n",
    "wake_data = pd.read_csv('data/wake_data.csv')\n",
    "\n",
    "# Labels for plotting\n",
    "sleep_labels = ['9:00', '9:30', '10:00', '10:30', '11:00', '11:30', '12:00']\n",
    "wake_labels = ['5:00', '5:30', '6:00', '6:30', '7:00', '7:30', '8:00']"
   ]
  },
  {
   "cell_type": "code",
   "execution_count": 4,
   "metadata": {},
   "outputs": [
    {
     "data": {
      "text/html": [
       "<div>\n",
       "<style scoped>\n",
       "    .dataframe tbody tr th:only-of-type {\n",
       "        vertical-align: middle;\n",
       "    }\n",
       "\n",
       "    .dataframe tbody tr th {\n",
       "        vertical-align: top;\n",
       "    }\n",
       "\n",
       "    .dataframe thead th {\n",
       "        text-align: right;\n",
       "    }\n",
       "</style>\n",
       "<table border=\"1\" class=\"dataframe\">\n",
       "  <thead>\n",
       "    <tr style=\"text-align: right;\">\n",
       "      <th></th>\n",
       "      <th>Unnamed: 0</th>\n",
       "      <th>indicator</th>\n",
       "      <th>time_offset</th>\n",
       "    </tr>\n",
       "  </thead>\n",
       "  <tbody>\n",
       "    <tr>\n",
       "      <th>0</th>\n",
       "      <td>2017-12-01 21:00:00</td>\n",
       "      <td>0</td>\n",
       "      <td>-60</td>\n",
       "    </tr>\n",
       "    <tr>\n",
       "      <th>1</th>\n",
       "      <td>2017-12-01 21:01:00</td>\n",
       "      <td>0</td>\n",
       "      <td>-59</td>\n",
       "    </tr>\n",
       "    <tr>\n",
       "      <th>2</th>\n",
       "      <td>2017-12-01 21:02:00</td>\n",
       "      <td>0</td>\n",
       "      <td>-58</td>\n",
       "    </tr>\n",
       "    <tr>\n",
       "      <th>3</th>\n",
       "      <td>2017-12-01 21:03:00</td>\n",
       "      <td>0</td>\n",
       "      <td>-57</td>\n",
       "    </tr>\n",
       "    <tr>\n",
       "      <th>4</th>\n",
       "      <td>2017-12-01 21:04:00</td>\n",
       "      <td>0</td>\n",
       "      <td>-56</td>\n",
       "    </tr>\n",
       "  </tbody>\n",
       "</table>\n",
       "</div>"
      ],
      "text/plain": [
       "            Unnamed: 0  indicator  time_offset\n",
       "0  2017-12-01 21:00:00          0          -60\n",
       "1  2017-12-01 21:01:00          0          -59\n",
       "2  2017-12-01 21:02:00          0          -58\n",
       "3  2017-12-01 21:03:00          0          -57\n",
       "4  2017-12-01 21:04:00          0          -56"
      ]
     },
     "execution_count": 4,
     "metadata": {},
     "output_type": "execute_result"
    }
   ],
   "source": [
    "sleep_data.head()"
   ]
  },
  {
   "cell_type": "code",
   "execution_count": 5,
   "metadata": {},
   "outputs": [
    {
     "data": {
      "text/html": [
       "<div>\n",
       "<style scoped>\n",
       "    .dataframe tbody tr th:only-of-type {\n",
       "        vertical-align: middle;\n",
       "    }\n",
       "\n",
       "    .dataframe tbody tr th {\n",
       "        vertical-align: top;\n",
       "    }\n",
       "\n",
       "    .dataframe thead th {\n",
       "        text-align: right;\n",
       "    }\n",
       "</style>\n",
       "<table border=\"1\" class=\"dataframe\">\n",
       "  <thead>\n",
       "    <tr style=\"text-align: right;\">\n",
       "      <th></th>\n",
       "      <th>Unnamed: 0</th>\n",
       "      <th>indicator</th>\n",
       "      <th>time_offset</th>\n",
       "    </tr>\n",
       "  </thead>\n",
       "  <tbody>\n",
       "    <tr>\n",
       "      <th>0</th>\n",
       "      <td>2017-12-01 05:00:00</td>\n",
       "      <td>1</td>\n",
       "      <td>-60</td>\n",
       "    </tr>\n",
       "    <tr>\n",
       "      <th>1</th>\n",
       "      <td>2017-12-01 05:01:00</td>\n",
       "      <td>1</td>\n",
       "      <td>-59</td>\n",
       "    </tr>\n",
       "    <tr>\n",
       "      <th>2</th>\n",
       "      <td>2017-12-01 05:02:00</td>\n",
       "      <td>1</td>\n",
       "      <td>-58</td>\n",
       "    </tr>\n",
       "    <tr>\n",
       "      <th>3</th>\n",
       "      <td>2017-12-01 05:03:00</td>\n",
       "      <td>1</td>\n",
       "      <td>-57</td>\n",
       "    </tr>\n",
       "    <tr>\n",
       "      <th>4</th>\n",
       "      <td>2017-12-01 05:04:00</td>\n",
       "      <td>1</td>\n",
       "      <td>-56</td>\n",
       "    </tr>\n",
       "  </tbody>\n",
       "</table>\n",
       "</div>"
      ],
      "text/plain": [
       "            Unnamed: 0  indicator  time_offset\n",
       "0  2017-12-01 05:00:00          1          -60\n",
       "1  2017-12-01 05:01:00          1          -59\n",
       "2  2017-12-01 05:02:00          1          -58\n",
       "3  2017-12-01 05:03:00          1          -57\n",
       "4  2017-12-01 05:04:00          1          -56"
      ]
     },
     "execution_count": 5,
     "metadata": {},
     "output_type": "execute_result"
    }
   ],
   "source": [
    "wake_data.head()"
   ]
  },
  {
   "cell_type": "code",
   "execution_count": 6,
   "metadata": {},
   "outputs": [
    {
     "data": {
      "text/plain": [
       "(11340, 3)"
      ]
     },
     "execution_count": 6,
     "metadata": {},
     "output_type": "execute_result"
    }
   ],
   "source": [
    "sleep_data.shape"
   ]
  },
  {
   "cell_type": "code",
   "execution_count": 7,
   "metadata": {},
   "outputs": [
    {
     "data": {
      "image/png": "[encoded data removed]",
      "text/plain": [
       "<Figure size 1152x432 with 1 Axes>"
      ]
     },
     "metadata": {
      "needs_background": "light"
     },
     "output_type": "display_data"
    }
   ],
   "source": [
    "figsize(16, 6)\n",
    "\n",
    "# Sleep data\n",
    "plt.scatter(sleep_data['time_offset'], sleep_data['indicator'], \n",
    "            s= 60, alpha=0.01, facecolor = 'b', edgecolors='b')\n",
    "plt.yticks([0, 1], ['Awake', 'Asleep']); plt.xlabel('PM Time'); \n",
    "plt.title('Falling Asleep Data', size = 18)\n",
    "plt.xticks([-60, -30, 0, 30, 60, 90, 120], sleep_labels);"
   ]
  },
  {
   "cell_type": "code",
   "execution_count": 8,
   "metadata": {},
   "outputs": [
    {
     "data": {
      "image/png": "[encoded data removed]",
      "text/plain": [
       "<Figure size 1152x432 with 1 Axes>"
      ]
     },
     "metadata": {
      "needs_background": "light"
     },
     "output_type": "display_data"
    }
   ],
   "source": [
    "# Wake data\n",
    "plt.scatter(wake_data['time_offset'], wake_data['indicator'], \n",
    "            s= 50, alpha = 0.01, facecolor='r', edgecolors =  'r');\n",
    "plt.yticks([0, 1], ['Awake', 'Asleep']); plt.xlabel('AM Time');\n",
    "plt.title('Waking Up Data')\n",
    "plt.xticks([-60, -30, 0, 30, 60, 90, 120], wake_labels);"
   ]
  },
  {
   "cell_type": "code",
   "execution_count": 9,
   "metadata": {},
   "outputs": [],
   "source": [
    "figsize(20, 8)\n",
    "\n",
    "# Logistic function with both beta and alpha\n",
    "def logistic(x, beta, alpha=0):\n",
    "    return 1.0 / (1.0 + np.exp(np.dot(beta, x) + alpha))"
   ]
  },
  {
   "cell_type": "code",
   "execution_count": 10,
   "metadata": {},
   "outputs": [],
   "source": [
    "# Sort the values by time offset\n",
    "sleep_data.sort_values('time_offset', inplace=True)\n",
    "\n",
    "# Time is the time offset\n",
    "time = np.array(sleep_data.loc[:, 'time_offset'])\n",
    "\n",
    "# Observations are the indicator\n",
    "sleep_obs = np.array(sleep_data.loc[:, 'indicator'])"
   ]
  },
  {
   "cell_type": "code",
   "execution_count": 11,
   "metadata": {},
   "outputs": [],
   "source": [
    "# Number of samples for Markov Chain Monte Carlo\n",
    "N_SAMPLES = 10"
   ]
  },
  {
   "cell_type": "code",
   "execution_count": null,
   "metadata": {},
   "outputs": [
    {
     "name": "stderr",
     "output_type": "stream",
     "text": [
      "Only 10 samples in chain.\n",
      "Sequential sampling (1 chains in 1 job)\n",
      "CompoundStep\n",
      ">Metropolis: [beta]\n",
      ">Metropolis: [alpha]\n",
      "Sampling chain 0, 0 divergences:   4%|▏     | 19/510 [04:31<2:00:45, 14.76s/it]"
     ]
    }
   ],
   "source": [
    "with pm.Model() as sleep_model:\n",
    "    # Create the alpha and beta parameters\n",
    "    alpha = pm.Normal('alpha', mu=0.0, tau=0.01, testval=0.0)\n",
    "    beta = pm.Normal('beta', mu=0.0, tau=0.01, testval=0.0)\n",
    "    \n",
    "    # Create the probability from the logistic function\n",
    "    p = pm.Deterministic('p', 1. / (1. + tt.exp(beta * time + alpha)))\n",
    "    \n",
    "    # Create the bernoulli parameter which uses the observed dat\n",
    "    observed = pm.Bernoulli('obs', p, observed=sleep_obs)\n",
    "    \n",
    "    # Starting values are found through Maximum A Posterior estimation\n",
    "    #start = pm.find_MAP()\n",
    "    \n",
    "    # Using Metropolis Hastings Sampling\n",
    "    step = pm.Metropolis()\n",
    "    \n",
    "    # Sample from the posterior using the sampling method\n",
    "    sleep_trace = pm.sample(N_SAMPLES, step=step, chains=1)"
   ]
  },
  {
   "cell_type": "code",
   "execution_count": null,
   "metadata": {},
   "outputs": [],
   "source": [
    "sleep_trace.point"
   ]
  },
  {
   "cell_type": "code",
   "execution_count": null,
   "metadata": {},
   "outputs": [],
   "source": [
    "# Extract the alpha and beta samples\n",
    "alpha_samples = sleep_trace[\"alpha\"][0:, None]\n",
    "beta_samples = sleep_trace[\"beta\"][0:, None]"
   ]
  },
  {
   "cell_type": "code",
   "execution_count": null,
   "metadata": {},
   "outputs": [],
   "source": [
    "# Time values for probability prediction\n",
    "time_est = np.linspace(time.min()- 15, time.max() + 15)[:, None]\n",
    "\n",
    "# Take most likely parameters to be mean values\n",
    "alpha_est = alpha_samples.mean()\n",
    "beta_est = beta_samples.mean()\n",
    "\n",
    "# Probability at each time using mean values of alpha and beta\n",
    "sleep_est = logistic(time_est, beta=beta_est, alpha=alpha_est)"
   ]
  },
  {
   "cell_type": "code",
   "execution_count": null,
   "metadata": {},
   "outputs": [],
   "source": [
    "alpha_samples"
   ]
  },
  {
   "cell_type": "code",
   "execution_count": null,
   "metadata": {},
   "outputs": [],
   "source": [
    "print('The probability of sleep increases to above 50% at 10:{} PM.'.format(int(time_est[np.where(sleep_est > 0.5)[0][0]][0])))"
   ]
  },
  {
   "cell_type": "code",
   "execution_count": null,
   "metadata": {},
   "outputs": [],
   "source": [
    "print('10:00 PM probability of being asleep: {:.2f}%.'.\n",
    "      format(100 * logistic(0, beta_est, alpha_est)))\n",
    "print('9:30  PM probability of being asleep: {:.2f}%.'.\n",
    "      format(100 * logistic(-30, beta_est, alpha_est)))\n",
    "print('10:30 PM probability of being asleep: {:.2f}%.'.\n",
    "      format(100 * logistic(30, beta_est, alpha_est)))"
   ]
  },
  {
   "cell_type": "code",
   "execution_count": null,
   "metadata": {},
   "outputs": [],
   "source": [
    "sleep_all_est = logistic(time_est.T, beta_samples, alpha_samples)\n",
    "quantiles = stats.mstats.mquantiles(sleep_all_est, [0.025, 0.975], axis=0)"
   ]
  },
  {
   "cell_type": "code",
   "execution_count": null,
   "metadata": {},
   "outputs": [],
   "source": [
    "figsize(20, 12)\n",
    "pm.traceplot(sleep_trace, ['alpha', 'beta']);"
   ]
  },
  {
   "cell_type": "code",
   "execution_count": null,
   "metadata": {},
   "outputs": [],
   "source": [
    "pm.autocorrplot(sleep_trace, ['alpha', 'beta']);"
   ]
  },
  {
   "cell_type": "code",
   "execution_count": null,
   "metadata": {},
   "outputs": [],
   "source": []
  },
  {
   "cell_type": "code",
   "execution_count": null,
   "metadata": {},
   "outputs": [],
   "source": [
    "# Sort the values by time offset\n",
    "wake_data.sort_values('time_offset', inplace=True)\n",
    "\n",
    "# Time is the time offset\n",
    "time = np.array(wake_data.loc[:, 'time_offset'])\n",
    "\n",
    "# Observations are the indicator\n",
    "wake_obs = np.array(wake_data.loc[:, 'indicator'])\n",
    "\n",
    "with pm.Model() as wake_model:\n",
    "    # Create the alpha and beta parameters\n",
    "    alpha = pm.Normal('alpha', mu=0.0, tau=0.01, testval=0.0)\n",
    "    beta = pm.Normal('beta', mu=0.0, tau=0.01, testval=0.0)\n",
    "    \n",
    "    # Create the probability from the logistic function\n",
    "    p = pm.Deterministic('p', 1. / (1. + tt.exp(beta * time + alpha)))\n",
    "    \n",
    "    # Create the bernoulli parameter which uses the observed data\n",
    "    observed = pm.Bernoulli('obs', p, observed=wake_obs)\n",
    "    \n",
    "    # Starting values are found through Maximum A Posterior estimation\n",
    "    # start = pm.find_MAP()\n",
    "    \n",
    "    # Using Metropolis Hastings Sampling\n",
    "    step = pm.Metropolis()\n",
    "    \n",
    "    # Sample from the posterior using the sampling method\n",
    "    wake_trace = pm.sample(N_SAMPLES, step=step, njobs=2);"
   ]
  },
  {
   "cell_type": "code",
   "execution_count": null,
   "metadata": {},
   "outputs": [],
   "source": [
    "# Extract the alpha and beta samples\n",
    "alpha_samples = wake_trace[\"alpha\"][5000:, None]\n",
    "beta_samples = wake_trace[\"beta\"][5000:, None]\n",
    "\n",
    "# Time values for probability prediction\n",
    "time_est = np.linspace(time.min()- 15, time.max() + 15, 1e3)[:, None]\n",
    "\n",
    "# Take most likely parameters to be mean values\n",
    "alpha_est = alpha_samples.mean()\n",
    "beta_est = beta_samples.mean()\n",
    "\n",
    "# Probability at each time using mean values of alpha and beta\n",
    "wake_est = logistic(time_est, beta=beta_est, alpha=alpha_est)"
   ]
  },
  {
   "cell_type": "code",
   "execution_count": null,
   "metadata": {},
   "outputs": [],
   "source": [
    "print('The probability of being awake passes 50% at 6:{} AM.'.format(int(time_est[np.where(wake_est < 0.5)][0])))"
   ]
  },
  {
   "cell_type": "code",
   "execution_count": null,
   "metadata": {},
   "outputs": [],
   "source": [
    "print('Probability of being awake at 5:30 AM: {:.2f}%.'.\n",
    "      format(100 - (100 * logistic(-30, beta=beta_est, alpha=alpha_est))))\n",
    "print('Probability of being awake at 6:00 AM: {:.2f}%.'.\n",
    "      format(100 - (100 * logistic(0, beta=beta_est, alpha=alpha_est))))\n",
    "print('Probability of being awake at 6:30 AM: {:.2f}%.'.\n",
    "      format(100 - (100 * logistic(30, beta=beta_est, alpha=alpha_est))))"
   ]
  },
  {
   "cell_type": "code",
   "execution_count": null,
   "metadata": {},
   "outputs": [],
   "source": []
  },
  {
   "cell_type": "code",
   "execution_count": null,
   "metadata": {},
   "outputs": [],
   "source": [
    "raw_data = pd.read_csv('data/sleep_wake.csv')\n",
    "raw_data['length'] = 8 - (raw_data['Sleep'] / 60) + (raw_data['Wake'] / 60)\n",
    "duration = raw_data['length']"
   ]
  },
  {
   "cell_type": "code",
   "execution_count": null,
   "metadata": {},
   "outputs": [],
   "source": [
    "with pm.Model() as duration_model:\n",
    "    # Three parameters to sample\n",
    "    alpha_skew = pm.Normal('alpha_skew', mu=0, tau=0.5, testval=3.0)\n",
    "    mu_ = pm.Normal('mu', mu=0, tau=0.5, testval=7.4)\n",
    "    tau_ = pm.Normal('tau', mu=0, tau=0.5, testval=1.0)\n",
    "    \n",
    "    # Duration is a deterministic variable\n",
    "    duration_ = pm.SkewNormal('duration', alpha = alpha_skew, mu = mu_, \n",
    "                              sd = 1/tau_, observed = duration)\n",
    "    \n",
    "    # Metropolis Hastings for sampling\n",
    "    step = pm.Metropolis()\n",
    "    duration_trace = pm.sample(N_SAMPLES, step=step)"
   ]
  },
  {
   "cell_type": "code",
   "execution_count": null,
   "metadata": {},
   "outputs": [],
   "source": [
    "# Extract the most likely estimates from the sampling\n",
    "alpha_skew_samples = duration_trace['alpha_skew'][5000:]\n",
    "mu_samples = duration_trace['mu'][5000:]\n",
    "tau_samples = duration_trace['tau'][5000:]\n",
    "\n",
    "alpha_skew_est = alpha_skew_samples.mean()\n",
    "mu_est = mu_samples.mean()\n",
    "tau_est = tau_samples.mean()"
   ]
  },
  {
   "cell_type": "code",
   "execution_count": null,
   "metadata": {},
   "outputs": [],
   "source": [
    "print('Probability of at least 6.5 hours of sleep = {:.2f}%.'.\n",
    "      format(100 * (1 - stats.skewnorm.cdf(6.5, a = alpha_skew_est, loc = mu_est, scale = 1/tau_est))))\n",
    "print('Probability of at least 8.0 hours of sleep = {:.2f}%.'.\n",
    "      format(100 * (1 - stats.skewnorm.cdf(8.0, a = alpha_skew_est, loc = mu_est, scale = 1/tau_est))))\n",
    "print('Probability of at least 9.0 hours of sleep = {:.2f}%.'.\n",
    "      format(100 * (1 - stats.skewnorm.cdf(9.0, a = alpha_skew_est, loc = mu_est, scale = 1/tau_est))))"
   ]
  },
  {
   "cell_type": "code",
   "execution_count": null,
   "metadata": {},
   "outputs": [],
   "source": []
  }
 ],
 "metadata": {
  "kernelspec": {
   "display_name": "Python 3",
   "language": "python",
   "name": "python3"
  },
  "language_info": {
   "codemirror_mode": {
    "name": "ipython",
    "version": 3
   },
   "file_extension": ".py",
   "mimetype": "text/x-python",
   "name": "python",
   "nbconvert_exporter": "python",
   "pygments_lexer": "ipython3",
   "version": "3.8.2"
  }
 },
 "nbformat": 4,
 "nbformat_minor": 4
}
